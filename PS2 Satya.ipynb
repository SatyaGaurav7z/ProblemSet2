{
 "cells": [
  {
   "cell_type": "markdown",
   "id": "a3feff2c",
   "metadata": {},
   "source": [
    "Question 1"
   ]
  },
  {
   "cell_type": "code",
   "execution_count": 2,
   "id": "b93834fd",
   "metadata": {},
   "outputs": [
    {
     "name": "stdout",
     "output_type": "stream",
     "text": [
      "6\n"
     ]
    }
   ],
   "source": [
    "a = 0\n",
    "\n",
    "def b():\n",
    "    global a\n",
    "    a = c(a)\n",
    "\n",
    "def c(a):\n",
    "    return a + 2\n",
    "\n",
    "# Calling b() three times\n",
    "b()\n",
    "b()\n",
    "b()\n",
    "\n",
    "# Displaying the value of a\n",
    "print(a)\n"
   ]
  },
  {
   "cell_type": "markdown",
   "id": "8f30e993",
   "metadata": {},
   "source": [
    "Question 2"
   ]
  },
  {
   "cell_type": "code",
   "execution_count": 11,
   "id": "aac02fd3",
   "metadata": {},
   "outputs": [
    {
     "data": {
      "text/plain": [
       "396"
      ]
     },
     "execution_count": 11,
     "metadata": {},
     "output_type": "execute_result"
    }
   ],
   "source": [
    "def fileLength(filename):\n",
    "    try:\n",
    "        infile = open(filename)\n",
    "        contents = infile.read()\n",
    "        infile.close()\n",
    "        return len(contents)\n",
    "    except FileNotFoundError:\n",
    "        print(f\"File {filename} not found.\")\n",
    "\n",
    "fileLength(r\"C:\\Users\\satya\\Downloads\\Filelength.txt\")\n"
   ]
  },
  {
   "cell_type": "markdown",
   "id": "5f84d543",
   "metadata": {},
   "source": [
    "Question 3"
   ]
  },
  {
   "cell_type": "code",
   "execution_count": 1,
   "id": "efa56530",
   "metadata": {},
   "outputs": [
    {
     "name": "stdout",
     "output_type": "stream",
     "text": [
      "['doll', 'firetruck', 'kitten']\n",
      "I am a Kangaroo located at coordinates (0,0)\n",
      "['doll', 'firetruck', 'kitten']\n",
      "I am a Kangaroo located at coordinates (3,0)\n"
     ]
    }
   ],
   "source": [
    "class Marsupial:\n",
    "    def __init__(self):\n",
    "        self.pouch = []\n",
    "\n",
    "    def put_in_pouch(self, item):\n",
    "        self.pouch.append(item)\n",
    "\n",
    "    def pouch_contents(self):\n",
    "        return self.pouch\n",
    "\n",
    "\n",
    "class Kangaroo(Marsupial):\n",
    "    def __init__(self, x, y):\n",
    "        super().__init__()\n",
    "        self.x = x\n",
    "        self.y = y\n",
    "\n",
    "    def jump(self, dx, dy):\n",
    "        self.x += dx\n",
    "        self.y += dy\n",
    "\n",
    "    def __str__(self):\n",
    "        return f\"I am a Kangaroo located at coordinates ({self.x},{self.y})\"\n",
    "\n",
    "\n",
    "# Test the classes\n",
    "m = Marsupial()\n",
    "m.put_in_pouch('doll')\n",
    "m.put_in_pouch('firetruck')\n",
    "m.put_in_pouch('kitten')\n",
    "print(m.pouch_contents())\n",
    "\n",
    "k = Kangaroo(0, 0)\n",
    "print(k)\n",
    "k.put_in_pouch('doll')\n",
    "k.put_in_pouch('firetruck')\n",
    "k.put_in_pouch('kitten')\n",
    "print(k.pouch_contents())\n",
    "k.jump(1, 0)\n",
    "k.jump(1, 0)\n",
    "k.jump(1, 0)\n",
    "print(k)\n"
   ]
  },
  {
   "cell_type": "markdown",
   "id": "886b820d",
   "metadata": {},
   "source": [
    "Question 4"
   ]
  },
  {
   "cell_type": "code",
   "execution_count": 13,
   "id": "7e2367cb",
   "metadata": {},
   "outputs": [
    {
     "name": "stdout",
     "output_type": "stream",
     "text": [
      "Enter a positive integer: 10\n",
      "10\n",
      "5\n",
      "16\n",
      "8\n",
      "4\n",
      "2\n",
      "1\n"
     ]
    }
   ],
   "source": [
    "def collatz(x):\n",
    "    print(x)\n",
    "    if x == 1:\n",
    "        return\n",
    "    elif x % 2 == 0:\n",
    "        collatz(x // 2)\n",
    "    else:\n",
    "        collatz(3 * x + 1)\n",
    "\n",
    "# user input for the starting number\n",
    "num = int(input(\"Enter a positive integer: \"))\n",
    "\n",
    "# the collatz function with the user input\n",
    "collatz(num)"
   ]
  },
  {
   "cell_type": "markdown",
   "id": "2e3e607b",
   "metadata": {},
   "source": [
    "Question 5"
   ]
  },
  {
   "cell_type": "code",
   "execution_count": 3,
   "id": "e145bc39",
   "metadata": {},
   "outputs": [
    {
     "name": "stdout",
     "output_type": "stream",
     "text": [
      "0\n",
      "1\n",
      "1\n",
      "11\n",
      "001"
     ]
    }
   ],
   "source": [
    "def binary(n):\n",
    "    if n == 0:\n",
    "        print(0)\n",
    "    elif n == 1:\n",
    "        print(1)\n",
    "    else:\n",
    "        binary(n // 2)\n",
    "        print(n % 2, end='')\n",
    "\n",
    "# Test the function\n",
    "binary(0)\n",
    "binary(1)\n",
    "binary(3)\n",
    "binary(9)\n"
   ]
  },
  {
   "cell_type": "markdown",
   "id": "462274c9",
   "metadata": {},
   "source": [
    "Question 6"
   ]
  },
  {
   "cell_type": "code",
   "execution_count": 23,
   "id": "2383ae9e",
   "metadata": {},
   "outputs": [
    {
     "name": "stdout",
     "output_type": "stream",
     "text": [
      "W3C Mission\n",
      "  Principles\n"
     ]
    }
   ],
   "source": [
    "from html.parser import HTMLParser\n",
    "\n",
    "class HeadingParser(HTMLParser):\n",
    "    def __init__(self):\n",
    "        super().__init__()\n",
    "        self.heading_level = 0\n",
    "        self.is_heading = False\n",
    "\n",
    "    def handle_starttag(self, tag, attrs):\n",
    "        if tag == 'h1':\n",
    "            self.heading_level = 1\n",
    "            self.is_heading = True\n",
    "        elif tag == 'h2':\n",
    "            self.heading_level = 2\n",
    "            self.is_heading = True\n",
    "        else:\n",
    "            self.is_heading = False\n",
    "\n",
    "    def handle_data(self, data):\n",
    "        if self.is_heading:\n",
    "            indent = '  ' * (self.heading_level - 1)\n",
    "            heading_text = data.strip()\n",
    "            if heading_text:\n",
    "                print(f\"{indent}{heading_text}\")\n",
    "\n",
    "# Test the class\n",
    "file_path = r\"C:\\Users\\satya\\Downloads\\w3c.txt\"\n",
    "with open(file_path, 'r') as infile:\n",
    "    content = infile.read()\n",
    "\n",
    "hp = HeadingParser()\n",
    "hp.feed(content)\n"
   ]
  },
  {
   "cell_type": "markdown",
   "id": "49f7c862",
   "metadata": {},
   "source": [
    "Question 7 "
   ]
  },
  {
   "cell_type": "code",
   "execution_count": 14,
   "id": "7603f0b7",
   "metadata": {},
   "outputs": [
    {
     "name": "stdout",
     "output_type": "stream",
     "text": [
      "http://reed.cs.depaul.edu/lperkovic/csc242/test1.html\n"
     ]
    }
   ],
   "source": [
    "import requests\n",
    "from bs4 import BeautifulSoup\n",
    "\n",
    "def get_links_from_page(url):\n",
    "    response = requests.get(url)\n",
    "    soup = BeautifulSoup(response.content, 'html.parser')\n",
    "    links = [link.get('href') for link in soup.find_all('a', href=True)]\n",
    "    return links\n",
    "\n",
    "def webdir(url, depth, indent):\n",
    "    if depth < 0:\n",
    "        return\n",
    "\n",
    "    links = get_links_from_page(url)\n",
    "\n",
    "    indent_str = '  ' * indent\n",
    "    print(f\"{indent_str}{url}\")\n",
    "\n",
    "    for link in links:\n",
    "        if link.startswith('http'):\n",
    "            webdir(link, depth - 1, indent + 1)\n",
    "\n",
    "# Test the function\n",
    "starting_url = 'http://reed.cs.depaul.edu/lperkovic/csc242/test1.html'\n",
    "webdir(starting_url, depth=2, indent=0)\n"
   ]
  },
  {
   "cell_type": "markdown",
   "id": "043b6102",
   "metadata": {},
   "source": [
    "Question 8"
   ]
  },
  {
   "cell_type": "code",
   "execution_count": 21,
   "id": "c0db8bad",
   "metadata": {},
   "outputs": [
    {
     "name": "stdout",
     "output_type": "stream",
     "text": [
      "All the temperature data.\n",
      "(24.8,)\n",
      "(28.4,)\n",
      "(27.9,)\n",
      "(27.6,)\n",
      "(4.2,)\n",
      "(8.3,)\n",
      "(15.7,)\n",
      "(10.4,)\n",
      "(13.6,)\n",
      "(20.7,)\n",
      "(27.7,)\n",
      "(22.2,)\n",
      "\n",
      "All the cities, but without repetition.\n",
      "('Mumbai',)\n",
      "('London',)\n",
      "('Cairo',)\n",
      "\n",
      "All the records for India.\n",
      "('Mumbai', 'India', 'Winter', 24.8, 5.9)\n",
      "('Mumbai', 'India', 'Spring', 28.4, 16.2)\n",
      "('Mumbai', 'India', 'S ummer', 27.9, 1549.4)\n",
      "('Mumbai', 'India', 'Fall', 27.6, 346.0)\n",
      "\n",
      "All the Fall records.\n",
      "('Mumbai', 'India', 'Fall', 27.6, 346.0)\n",
      "('London', 'United Kingdom', 'Fall', 10.4, 218.5)\n",
      "('Cairo', 'Egypt', 'Fall', 22.2, 4.5)\n",
      "\n",
      "The city, country, and season for which the average rainfall is between 200 and 400 millimeters.\n",
      "('Mumbai', 'India', 'Fall')\n",
      "('London', 'United Kingdom', 'Winter')\n",
      "('London', 'United Kingdom', 'Fall')\n",
      "\n",
      "The city and country for which the average Fall temperature is above 20 degrees, in increasing temperature order.\n",
      "('Cairo', 'Egypt')\n",
      "('Mumbai', 'India')\n",
      "\n",
      "The total annual rainfall for Cairo.\n",
      "(27.6,)\n",
      "\n",
      "The total rainfall for each season.\n",
      "('Fall', 569.0)\n",
      "('S ummer', 1706.4)\n",
      "('Spring', 192.29999999999998)\n",
      "('Summer', 0.1)\n",
      "('Winter', 230.1)\n",
      "\n"
     ]
    }
   ],
   "source": [
    "import pandas as pd\n",
    "import sqlite3\n",
    "\n",
    "# Read the dataset from the CSV file\n",
    "df = pd.read_csv(r\"C:\\Users\\satya\\Downloads\\dataset.csv\")\n",
    "\n",
    "# Create a SQLite in-memory database\n",
    "conn = sqlite3.connect(\":memory:\")\n",
    "\n",
    "# Write the DataFrame to a SQLite table\n",
    "df.to_sql(\"table_name\", conn, index=False)\n",
    "\n",
    "# SQL queries and their corresponding questions\n",
    "queries = [\n",
    "    (\"SELECT `Temperature (C)` FROM table_name;\", \"All the temperature data.\"),\n",
    "    (\"SELECT DISTINCT `City` FROM table_name;\", \"All the cities, but without repetition.\"),\n",
    "    (\"SELECT * FROM table_name WHERE `Country` = 'India';\", \"All the records for India.\"),\n",
    "    (\"SELECT * FROM table_name WHERE `Season` = 'Fall';\", \"All the Fall records.\"),\n",
    "    (\"SELECT `City`, `Country`, `Season` FROM table_name WHERE `Rainfall (mm)` BETWEEN 200 AND 400;\",\n",
    "     \"The city, country, and season for which the average rainfall is between 200 and 400 millimeters.\"),\n",
    "    (\"SELECT `City`, `Country` FROM table_name WHERE `Season` = 'Fall' AND `Temperature (C)` > 20 ORDER BY `Temperature (C)`;\",\n",
    "     \"The city and country for which the average Fall temperature is above 20 degrees, in increasing temperature order.\"),\n",
    "    (\"SELECT SUM(`Rainfall (mm)`) FROM table_name WHERE `City` = 'Cairo';\", \"The total annual rainfall for Cairo.\"),\n",
    "    (\"SELECT `Season`, SUM(`Rainfall (mm)`) AS `Total_Rainfall` FROM table_name GROUP BY `Season`;\", \"The total rainfall for each season.\")\n",
    "]\n",
    "\n",
    "# Execute the SQL queries and display the results\n",
    "for query, question in queries:\n",
    "    print(question)\n",
    "    result = conn.execute(query)\n",
    "    rows = result.fetchall()\n",
    "    for row in rows:\n",
    "        print(row)\n",
    "    print()\n",
    "\n",
    "# Close the database connection\n",
    "conn.close()\n"
   ]
  },
  {
   "cell_type": "markdown",
   "id": "593b4500",
   "metadata": {},
   "source": [
    "Question 9 "
   ]
  },
  {
   "cell_type": "code",
   "execution_count": 22,
   "id": "2303b74b",
   "metadata": {},
   "outputs": [
    {
     "name": "stdout",
     "output_type": "stream",
     "text": [
      "a) List of words in uppercase:\n",
      "['THE', 'QUICK', 'BROWN', 'FOX', 'JUMPS', 'OVER', 'THE', 'LAZY', 'DOG']\n",
      "b) List of words in lowercase:\n",
      "['the', 'quick', 'brown', 'fox', 'jumps', 'over', 'the', 'lazy', 'dog']\n",
      "c) List of lengths of words:\n",
      "[3, 5, 5, 3, 5, 4, 3, 4, 3]\n",
      "d) List containing a list for every word with word in uppercase, lowercase, and length:\n",
      "[['THE', 'the', 3], ['QUICK', 'quick', 5], ['BROWN', 'brown', 5], ['FOX', 'fox', 3], ['JUMPS', 'jumps', 5], ['OVER', 'over', 4], ['THE', 'the', 3], ['LAZY', 'lazy', 4], ['DOG', 'dog', 3]]\n",
      "e) List of words containing 4 or more characters:\n",
      "['quick', 'brown', 'jumps', 'over', 'lazy']\n"
     ]
    }
   ],
   "source": [
    "words = ['The', 'quick', 'brown', 'fox', 'jumps', 'over', 'the', 'lazy', 'dog']\n",
    "\n",
    "# a) List of words in uppercase\n",
    "list_a = [word.upper() for word in words]\n",
    "print(\"a) List of words in uppercase:\")\n",
    "print(list_a)\n",
    "\n",
    "# b) List of words in lowercase\n",
    "list_b = [word.lower() for word in words]\n",
    "print(\"b) List of words in lowercase:\")\n",
    "print(list_b)\n",
    "\n",
    "# c) List of lengths of words\n",
    "list_c = [len(word) for word in words]\n",
    "print(\"c) List of lengths of words:\")\n",
    "print(list_c)\n",
    "\n",
    "# d) List containing a list for every word with word in uppercase, lowercase, and length\n",
    "list_d = [[word.upper(), word.lower(), len(word)] for word in words]\n",
    "print(\"d) List containing a list for every word with word in uppercase, lowercase, and length:\")\n",
    "print(list_d)\n",
    "\n",
    "# e) List of words containing 4 or more characters\n",
    "list_e = [word for word in words if len(word) >= 4]\n",
    "print(\"e) List of words containing 4 or more characters:\")\n",
    "print(list_e)\n"
   ]
  },
  {
   "cell_type": "code",
   "execution_count": null,
   "id": "f8442ff5",
   "metadata": {},
   "outputs": [],
   "source": []
  }
 ],
 "metadata": {
  "kernelspec": {
   "display_name": "Python 3 (ipykernel)",
   "language": "python",
   "name": "python3"
  },
  "language_info": {
   "codemirror_mode": {
    "name": "ipython",
    "version": 3
   },
   "file_extension": ".py",
   "mimetype": "text/x-python",
   "name": "python",
   "nbconvert_exporter": "python",
   "pygments_lexer": "ipython3",
   "version": "3.10.9"
  }
 },
 "nbformat": 4,
 "nbformat_minor": 5
}
